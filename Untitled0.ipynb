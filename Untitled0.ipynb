{
  "nbformat": 4,
  "nbformat_minor": 0,
  "metadata": {
    "colab": {
      "provenance": [],
      "authorship_tag": "ABX9TyPXrM8l0rX6mNd1ZokQK51Q",
      "include_colab_link": true
    },
    "kernelspec": {
      "name": "python3",
      "display_name": "Python 3"
    },
    "language_info": {
      "name": "python"
    }
  },
  "cells": [
    {
      "cell_type": "markdown",
      "metadata": {
        "id": "view-in-github",
        "colab_type": "text"
      },
      "source": [
        "<a href=\"https://colab.research.google.com/github/Gustavo031001/3-semestre/blob/main/Untitled0.ipynb\" target=\"_parent\"><img src=\"https://colab.research.google.com/assets/colab-badge.svg\" alt=\"Open In Colab\"/></a>"
      ]
    },
    {
      "cell_type": "code",
      "execution_count": null,
      "metadata": {
        "id": "7g3emmowE8xj"
      },
      "outputs": [],
      "source": [
        "import requests\n",
        "import datetime as dt\n",
        "class ETL:\n",
        "def __init__(self):\n",
        "self.url = None\n",
        "def extract_word_cup_data(self, url):\n",
        "self.url = url\n",
        "data_extracao = dt.datetime.today().strftime(\"%Y/%m/%d - %H:%M:%S\")\n",
        "# Faz extração\n",
        "jogos = requests.get(self.url).json()\n",
        "relatorio = []\n",
        "for jogo in jogos:\n",
        "data = jogo['datetime'] # extrai a data\n",
        "data = dt.datetime.strptime(data, \"%Y-%m-%dT%H:%M:%SZ\") # converte\n",
        "de string para data\n",
        "data = data.strftime(\"%d/%m/%Y\") # formata\n",
        "nome_time1 = jogo['home_team_country']\n",
        "nome_time2 = jogo['away_team_country']\n",
        "gols_time1 = jogo['home_team']['goals']\n",
        "gols_time2 = jogo['away_team']['goals']\n",
        "linha = f\"({data}) - {nome_time1} x {nome_time2} = {gols_time1} a\n",
        "{gols_time2}\"\n",
        "relatorio.append(linha)\n",
        "return relatorio"
      ]
    },
    {
      "cell_type": "code",
      "source": [
        "import matplotlib.pyplot as plt\n",
        "%matplotlib inline\n",
        "class GeraGrafico:\n",
        "def gerar_grafico_count_dia(self, lista_jogos):\n",
        "# Para cada linha extrai somente a parte que corresponde ao dia e mês:\n",
        "dd/mm\n",
        "\n",
        "datas = [linha[1:6] for linha in lista_jogos]\n",
        "\n",
        "5\n",
        "\n",
        "# Para cada data conta quantas vezes ela aparece na lista. Gera uma lista\n",
        "de tuplas (data, quantidade)\n",
        "datas_count = [(data, datas.count(data)) for data in set(datas)]\n",
        "\n",
        "# Transforma em dicionário, por conveniência\n",
        "datas_count = dict(datas_count)\n",
        "\n",
        "eixo_x = datas_count.keys() # as chaves (datas) serão os dados do eixo x\n",
        "eixo_y = datas_count.values() # os valores (quantidade) serão os dados do\n",
        "eixo y\n",
        "\n",
        "plt.figure(figsize=(15, 5))\n",
        "plt.xlabel('Dia do mês')\n",
        "plt.ylabel('Quantidade de jogos')\n",
        "plt.xticks(rotation=45)\n",
        "\n",
        "plt.bar(eixo_x, eixo_y)\n",
        "plt.show()\n",
        "return None\n",
        "\n",
        "Agora que as classes estão criadas, basta usar.\n",
        "# Extrai os dados\n",
        "relatorio_jogos = ETL().extract_word_cup_data('http://worldcup.sfg.io/matches')\n",
        "\n",
        "# Gera o gráfico\n",
        "GeraGrafico().gerar_grafico_count_dia(relatorio_jogos)"
      ],
      "metadata": {
        "id": "H_d0L0NycApR"
      },
      "execution_count": null,
      "outputs": []
    }
  ]
}